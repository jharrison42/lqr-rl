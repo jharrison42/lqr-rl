{
 "cells": [
  {
   "cell_type": "code",
   "execution_count": 5,
   "metadata": {},
   "outputs": [
    {
     "name": "stdout",
     "output_type": "stream",
     "text": [
      "The autoreload extension is already loaded. To reload it, use:\n",
      "  %reload_ext autoreload\n"
     ]
    }
   ],
   "source": [
    "%load_ext autoreload\n",
    "%autoreload 2\n",
    "\n",
    "import numpy as np\n",
    "import matplotlib.pyplot as plt\n",
    "import tensorflow as tf\n",
    "import gym\n",
    "from collections import deque\n",
    "import random\n",
    "import time\n",
    "import yaml\n",
    "from klqr import *\n",
    "from train_utils import *"
   ]
  },
  {
   "cell_type": "code",
   "execution_count": 6,
   "metadata": {},
   "outputs": [],
   "source": [
    "with open('config.yml','r') as ymlfile:\n",
    "    config = yaml.load(ymlfile)\n",
    "    \n",
    "tf.reset_default_graph()\n",
    "sess = tf.InteractiveSession(config=tf.ConfigProto(log_device_placement=True))"
   ]
  },
  {
   "cell_type": "code",
   "execution_count": 7,
   "metadata": {
    "scrolled": false
   },
   "outputs": [
    {
     "name": "stdout",
     "output_type": "stream",
     "text": [
      "z shape: (?, 3)\n",
      "********** Iteration 1 ************\n",
      "\tEpisode Len: 100\n",
      "\tLast Episode Cost: 20576.800923 vs optimal 0.000000\n",
      "********** Iteration 2 ************\n",
      "\tEpisode Len: 100\n",
      "\tLast Episode Cost: 248185.250880 vs optimal 9.617052\n",
      "********** Iteration 3 ************\n",
      "\tEpisode Len: 100\n",
      "\tLast Episode Cost: 191801.578023 vs optimal 10.486355\n",
      "********** Iteration 4 ************\n",
      "\tEpisode Len: 100\n",
      "\tLast Episode Cost: 96586.762941 vs optimal 16.458772\n",
      "********** Iteration 5 ************\n",
      "[[ 1.0061483  -0.01611208 -0.01615164]\n",
      " [-0.01611208  1.0599922   0.07317833]\n",
      " [-0.01615164  0.07317833  1.1007798 ]]\n",
      "\tEpisode Len: 100\n",
      "\tLast Episode Cost: 197892.401228 vs optimal 10.831921\n",
      "********** Iteration 6 ************\n",
      "\tEpisode Len: 100\n",
      "\tLast Episode Cost: 586981.453949 vs optimal 7.788326\n",
      "********** Iteration 7 ************\n",
      "\tEpisode Len: 100\n",
      "\tLast Episode Cost: 399779.084747 vs optimal 24.924905\n",
      "********** Iteration 8 ************\n",
      "\tEpisode Len: 100\n",
      "\tLast Episode Cost: 104649.099523 vs optimal 3.904683\n",
      "********** Iteration 9 ************\n",
      "\tEpisode Len: 100\n",
      "\tLast Episode Cost: 26618.579094 vs optimal 3.828875\n",
      "********** Iteration 10 ************\n",
      "[[ 1.0070409  -0.01953483 -0.02017603]\n",
      " [-0.01953483  1.1104562   0.1408642 ]\n",
      " [-0.02017603  0.1408642   1.1923465 ]]\n",
      "\tEpisode Len: 100\n",
      "\tLast Episode Cost: 498568.779398 vs optimal 10.053407\n",
      "********** Iteration 11 ************\n",
      "\tEpisode Len: 100\n",
      "\tLast Episode Cost: 84891.278472 vs optimal 32.178588\n",
      "********** Iteration 12 ************\n",
      "\tEpisode Len: 100\n",
      "\tLast Episode Cost: 4845.132807 vs optimal 12.194053\n",
      "********** Iteration 13 ************\n",
      "\tEpisode Len: 100\n",
      "\tLast Episode Cost: 880756.112993 vs optimal 9.028371\n",
      "********** Iteration 14 ************\n",
      "\tEpisode Len: 100\n",
      "\tLast Episode Cost: 13417.082483 vs optimal 2.431796\n",
      "********** Iteration 15 ************\n",
      "[[ 1.0100911  -0.02576797 -0.02437956]\n",
      " [-0.02576797  1.1656675   0.20748872]\n",
      " [-0.02437956  0.20748872  1.2767365 ]]\n",
      "\tEpisode Len: 100\n",
      "\tLast Episode Cost: 774579.535932 vs optimal 9.493106\n",
      "********** Iteration 16 ************\n",
      "\tEpisode Len: 100\n",
      "\tLast Episode Cost: 1704993.428789 vs optimal 16.680882\n",
      "********** Iteration 17 ************\n",
      "\tEpisode Len: 100\n",
      "\tLast Episode Cost: 837488.606252 vs optimal 11.907744\n",
      "********** Iteration 18 ************\n",
      "\tEpisode Len: 100\n",
      "\tLast Episode Cost: 570802.709112 vs optimal 23.062582\n",
      "********** Iteration 19 ************\n",
      "\tEpisode Len: 100\n",
      "\tLast Episode Cost: 3732845.860700 vs optimal 17.443947\n",
      "********** Iteration 20 ************\n",
      "[[ 1.0171353  -0.03977581 -0.03361689]\n",
      " [-0.03977581  1.2312546   0.27819344]\n",
      " [-0.03361689  0.27819344  1.360749  ]]\n",
      "\tEpisode Len: 100\n",
      "\tLast Episode Cost: 1214218.036931 vs optimal 7.751874\n",
      "********** Iteration 21 ************\n",
      "\tEpisode Len: 100\n",
      "\tLast Episode Cost: 2372722.251006 vs optimal 15.522242\n",
      "********** Iteration 22 ************\n",
      "\tEpisode Len: 100\n",
      "\tLast Episode Cost: 1339521.298876 vs optimal 4.771114\n",
      "********** Iteration 23 ************\n",
      "\tEpisode Len: 100\n",
      "\tLast Episode Cost: 44823.749138 vs optimal 13.042007\n",
      "********** Iteration 24 ************\n",
      "\tEpisode Len: 100\n",
      "\tLast Episode Cost: 7919484.673675 vs optimal 12.711621\n",
      "********** Iteration 25 ************\n",
      "[[ 1.0269102  -0.05853296 -0.0480123 ]\n",
      " [-0.05853296  1.2960688   0.34826055]\n",
      " [-0.0480123   0.34826055  1.4438558 ]]\n",
      "\tEpisode Len: 100\n",
      "\tLast Episode Cost: 416.483198 vs optimal 2.665735\n",
      "********** Iteration 26 ************\n",
      "\tEpisode Len: 100\n",
      "\tLast Episode Cost: 63863.663119 vs optimal 21.308247\n",
      "********** Iteration 27 ************\n",
      "\tEpisode Len: 100\n",
      "\tLast Episode Cost: 75967.712666 vs optimal 3.292579\n",
      "********** Iteration 28 ************\n",
      "\tEpisode Len: 100\n",
      "\tLast Episode Cost: 2257469.198523 vs optimal 9.231304\n",
      "********** Iteration 29 ************\n",
      "\tEpisode Len: 100\n",
      "\tLast Episode Cost: 4131.582990 vs optimal 5.346130\n",
      "********** Iteration 30 ************\n",
      "[[ 1.0386995  -0.07870276 -0.06360098]\n",
      " [-0.07870276  1.3559433   0.41749862]\n",
      " [-0.06360098  0.41749862  1.5346235 ]]\n",
      "\tEpisode Len: 100\n",
      "\tLast Episode Cost: 274180.278718 vs optimal 1.346066\n",
      "********** Iteration 31 ************\n",
      "\tEpisode Len: 100\n",
      "\tLast Episode Cost: 1400165.032043 vs optimal 19.264574\n",
      "********** Iteration 32 ************\n",
      "\tEpisode Len: 100\n",
      "\tLast Episode Cost: 209331.440256 vs optimal 10.581641\n",
      "********** Iteration 33 ************\n",
      "\tEpisode Len: 100\n",
      "\tLast Episode Cost: 1235890.273282 vs optimal 0.374824\n",
      "********** Iteration 34 ************\n",
      "\tEpisode Len: 100\n",
      "\tLast Episode Cost: 308.637838 vs optimal 7.113940\n",
      "********** Iteration 35 ************\n",
      "[[ 1.0505145  -0.09901813 -0.08073267]\n",
      " [-0.09901813  1.4141383   0.48854157]\n",
      " [-0.08073267  0.48854157  1.6318161 ]]\n",
      "\tEpisode Len: 100\n",
      "\tLast Episode Cost: 214475.690804 vs optimal 25.964099\n",
      "********** Iteration 36 ************\n",
      "\tEpisode Len: 100\n",
      "\tLast Episode Cost: 105490.807054 vs optimal 4.021036\n",
      "********** Iteration 37 ************\n",
      "\tEpisode Len: 100\n",
      "\tLast Episode Cost: 1211847.251466 vs optimal 9.889580\n",
      "********** Iteration 38 ************\n",
      "\tEpisode Len: 100\n",
      "\tLast Episode Cost: 5728.463990 vs optimal 15.640364\n",
      "********** Iteration 39 ************\n",
      "\tEpisode Len: 100\n",
      "\tLast Episode Cost: 1488.149811 vs optimal 11.028197\n",
      "********** Iteration 40 ************\n",
      "[[ 1.0623894  -0.11913967 -0.09885894]\n",
      " [-0.11913967  1.467337    0.5606516 ]\n",
      " [-0.09885894  0.5606516   1.7434121 ]]\n",
      "\tEpisode Len: 100\n",
      "\tLast Episode Cost: 673384.059899 vs optimal 20.946080\n",
      "********** Iteration 41 ************\n",
      "\tEpisode Len: 100\n",
      "\tLast Episode Cost: 197865.678808 vs optimal 8.060253\n",
      "********** Iteration 42 ************\n",
      "\tEpisode Len: 100\n",
      "\tLast Episode Cost: 785812.714660 vs optimal 13.736135\n",
      "********** Iteration 43 ************\n",
      "\tEpisode Len: 100\n",
      "\tLast Episode Cost: 183735.163225 vs optimal 11.926794\n",
      "********** Iteration 44 ************\n",
      "\tEpisode Len: 100\n",
      "\tLast Episode Cost: 11891.648270 vs optimal 6.328985\n",
      "********** Iteration 45 ************\n",
      "[[ 1.0740044  -0.13911463 -0.11888899]\n",
      " [-0.13911463  1.520503    0.64026046]\n",
      " [-0.11888899  0.64026046  1.8768796 ]]\n",
      "\tEpisode Len: 100\n",
      "\tLast Episode Cost: 865496.091851 vs optimal 6.164510\n",
      "********** Iteration 46 ************\n",
      "\tEpisode Len: 100\n",
      "\tLast Episode Cost: 333521.888269 vs optimal 13.145759\n",
      "********** Iteration 47 ************\n",
      "\tEpisode Len: 100\n",
      "\tLast Episode Cost: 59893.836871 vs optimal 14.842294\n",
      "********** Iteration 48 ************\n",
      "\tEpisode Len: 100\n",
      "\tLast Episode Cost: 338044.022620 vs optimal 12.755846\n",
      "********** Iteration 49 ************\n",
      "\tEpisode Len: 100\n",
      "\tLast Episode Cost: 1058.129808 vs optimal 13.313065\n",
      "********** Iteration 50 ************\n",
      "[[ 1.0854957  -0.15937746 -0.14131442]\n",
      " [-0.15937746  1.5757812   0.72990376]\n",
      " [-0.14131442  0.72990376  2.0363586 ]]\n",
      "\tEpisode Len: 100\n",
      "\tLast Episode Cost: 186992.802047 vs optimal 5.028675\n",
      "********** Iteration 51 ************\n",
      "\tEpisode Len: 100\n",
      "\tLast Episode Cost: 4064541.824054 vs optimal 3.540627\n",
      "********** Iteration 52 ************\n",
      "\tEpisode Len: 100\n",
      "\tLast Episode Cost: 4639.371123 vs optimal 10.546695\n",
      "********** Iteration 53 ************\n",
      "\tEpisode Len: 100\n",
      "\tLast Episode Cost: 2392052.641333 vs optimal 13.910619\n",
      "********** Iteration 54 ************\n",
      "\tEpisode Len: 100\n",
      "\tLast Episode Cost: 672374.791827 vs optimal 1.794319\n",
      "********** Iteration 55 ************\n",
      "[[ 1.0958483  -0.17666641 -0.16043071]\n",
      " [-0.17666641  1.6232938   0.8046473 ]\n",
      " [-0.16043071  0.8046473   2.1625984 ]]\n",
      "\tEpisode Len: 100\n",
      "\tLast Episode Cost: 368457.166725 vs optimal 3.870228\n",
      "********** Iteration 56 ************\n",
      "\tEpisode Len: 100\n",
      "\tLast Episode Cost: 53266.878592 vs optimal 20.337181\n",
      "********** Iteration 57 ************\n",
      "\tEpisode Len: 100\n",
      "\tLast Episode Cost: 143796.115053 vs optimal 5.521071\n",
      "********** Iteration 58 ************\n",
      "\tEpisode Len: 100\n",
      "\tLast Episode Cost: 1138818.621208 vs optimal 9.305645\n",
      "********** Iteration 59 ************\n",
      "\tEpisode Len: 100\n",
      "\tLast Episode Cost: 277048.478257 vs optimal 8.217736\n",
      "********** Iteration 60 ************\n",
      "[[ 1.1064432  -0.19496709 -0.18182342]\n",
      " [-0.19496709  1.6737963   0.89257187]\n",
      " [-0.18182342  0.89257187  2.3291202 ]]\n",
      "\tEpisode Len: 100\n",
      "\tLast Episode Cost: 796010.490126 vs optimal 2.376903\n",
      "********** Iteration 61 ************\n",
      "\tEpisode Len: 100\n",
      "\tLast Episode Cost: 1154993.709883 vs optimal 13.440733\n",
      "********** Iteration 62 ************\n",
      "\tEpisode Len: 100\n",
      "\tLast Episode Cost: 63768.523307 vs optimal 8.623210\n",
      "********** Iteration 63 ************\n",
      "\tEpisode Len: 100\n",
      "\tLast Episode Cost: 150622.711118 vs optimal 15.589550\n",
      "********** Iteration 64 ************\n",
      "\tEpisode Len: 100\n",
      "\tLast Episode Cost: 437.413927 vs optimal 7.111489\n",
      "********** Iteration 65 ************\n",
      "[[ 1.1165993  -0.21283649 -0.20311429]\n",
      " [-0.21283649  1.7258425   0.98537076]\n",
      " [-0.20311429  0.98537076  2.5089478 ]]\n",
      "\tEpisode Len: 100\n",
      "\tLast Episode Cost: 184950.406750 vs optimal 4.294666\n",
      "********** Iteration 66 ************\n"
     ]
    },
    {
     "ename": "KeyboardInterrupt",
     "evalue": "",
     "output_type": "error",
     "traceback": [
      "\u001b[0;31m---------------------------------------\u001b[0m",
      "\u001b[0;31mKeyboardInterrupt\u001b[0mTraceback (most recent call last)",
      "\u001b[0;32m<ipython-input-7-0976d7723b6b>\u001b[0m in \u001b[0;36m<module>\u001b[0;34m()\u001b[0m\n\u001b[1;32m      4\u001b[0m train_agent(agent,env,max_timesteps=40000, n_transitions_between_updates=100,\n\u001b[1;32m      5\u001b[0m                 \u001b[0mn_optim_steps_per_update\u001b[0m\u001b[0;34m=\u001b[0m\u001b[0;36m200\u001b[0m\u001b[0;34m,\u001b[0m\u001b[0;34m\u001b[0m\u001b[0m\n\u001b[0;32m----> 6\u001b[0;31m                 \u001b[0mn_iters_per_p_update\u001b[0m\u001b[0;34m=\u001b[0m\u001b[0;36m5\u001b[0m\u001b[0;34m,\u001b[0m\u001b[0;34m\u001b[0m\u001b[0m\n\u001b[0m\u001b[1;32m      7\u001b[0m                 )\n",
      "\u001b[0;32m~/asl/lqr-rl/train_utils.py\u001b[0m in \u001b[0;36mtrain_agent\u001b[0;34m(agent, env, max_timesteps, max_episodes, max_iters, max_seconds, n_transitions_between_updates, n_optim_steps_per_update, n_iters_per_p_update, training)\u001b[0m\n\u001b[1;32m    104\u001b[0m             \u001b[0;31m# optimize the model from collected data:\u001b[0m\u001b[0;34m\u001b[0m\u001b[0;34m\u001b[0m\u001b[0m\n\u001b[1;32m    105\u001b[0m             \u001b[0;32mfor\u001b[0m \u001b[0mi\u001b[0m \u001b[0;32min\u001b[0m \u001b[0mrange\u001b[0m\u001b[0;34m(\u001b[0m\u001b[0mn_optim_steps_per_update\u001b[0m\u001b[0;34m)\u001b[0m\u001b[0;34m:\u001b[0m\u001b[0;34m\u001b[0m\u001b[0m\n\u001b[0;32m--> 106\u001b[0;31m                 \u001b[0magent\u001b[0m\u001b[0;34m.\u001b[0m\u001b[0mupdate_model\u001b[0m\u001b[0;34m(\u001b[0m\u001b[0;34m)\u001b[0m\u001b[0;34m\u001b[0m\u001b[0m\n\u001b[0m\u001b[1;32m    107\u001b[0m \u001b[0;34m\u001b[0m\u001b[0m\n\u001b[1;32m    108\u001b[0m             \u001b[0;32mif\u001b[0m \u001b[0miters_so_far\u001b[0m \u001b[0;34m%\u001b[0m \u001b[0mn_iters_per_p_update\u001b[0m \u001b[0;34m==\u001b[0m \u001b[0;36m0\u001b[0m\u001b[0;34m:\u001b[0m\u001b[0;34m\u001b[0m\u001b[0m\n",
      "\u001b[0;32m~/asl/lqr-rl/klqr.py\u001b[0m in \u001b[0;36mupdate_model\u001b[0;34m(self)\u001b[0m\n\u001b[1;32m    220\u001b[0m         \u001b[0mself\u001b[0m\u001b[0;34m.\u001b[0m\u001b[0mxp_\u001b[0m\u001b[0;34m:\u001b[0m \u001b[0mnext_states\u001b[0m\u001b[0;34m,\u001b[0m\u001b[0;34m\u001b[0m\u001b[0m\n\u001b[1;32m    221\u001b[0m         \u001b[0mself\u001b[0m\u001b[0;34m.\u001b[0m\u001b[0ma_\u001b[0m\u001b[0;34m:\u001b[0m  \u001b[0mactions\u001b[0m\u001b[0;34m,\u001b[0m\u001b[0;34m\u001b[0m\u001b[0m\n\u001b[0;32m--> 222\u001b[0;31m         \u001b[0mself\u001b[0m\u001b[0;34m.\u001b[0m\u001b[0mr_\u001b[0m\u001b[0;34m:\u001b[0m  \u001b[0mrewards\u001b[0m\u001b[0;34m\u001b[0m\u001b[0m\n\u001b[0m\u001b[1;32m    223\u001b[0m         })\n\u001b[1;32m    224\u001b[0m \u001b[0;34m\u001b[0m\u001b[0m\n",
      "\u001b[0;32m/usr/local/lib/python3.6/site-packages/tensorflow/python/client/session.py\u001b[0m in \u001b[0;36mrun\u001b[0;34m(self, fetches, feed_dict, options, run_metadata)\u001b[0m\n\u001b[1;32m    903\u001b[0m     \u001b[0;32mtry\u001b[0m\u001b[0;34m:\u001b[0m\u001b[0;34m\u001b[0m\u001b[0m\n\u001b[1;32m    904\u001b[0m       result = self._run(None, fetches, feed_dict, options_ptr,\n\u001b[0;32m--> 905\u001b[0;31m                          run_metadata_ptr)\n\u001b[0m\u001b[1;32m    906\u001b[0m       \u001b[0;32mif\u001b[0m \u001b[0mrun_metadata\u001b[0m\u001b[0;34m:\u001b[0m\u001b[0;34m\u001b[0m\u001b[0m\n\u001b[1;32m    907\u001b[0m         \u001b[0mproto_data\u001b[0m \u001b[0;34m=\u001b[0m \u001b[0mtf_session\u001b[0m\u001b[0;34m.\u001b[0m\u001b[0mTF_GetBuffer\u001b[0m\u001b[0;34m(\u001b[0m\u001b[0mrun_metadata_ptr\u001b[0m\u001b[0;34m)\u001b[0m\u001b[0;34m\u001b[0m\u001b[0m\n",
      "\u001b[0;32m/usr/local/lib/python3.6/site-packages/tensorflow/python/client/session.py\u001b[0m in \u001b[0;36m_run\u001b[0;34m(self, handle, fetches, feed_dict, options, run_metadata)\u001b[0m\n\u001b[1;32m   1135\u001b[0m     \u001b[0;32mif\u001b[0m \u001b[0mfinal_fetches\u001b[0m \u001b[0;32mor\u001b[0m \u001b[0mfinal_targets\u001b[0m \u001b[0;32mor\u001b[0m \u001b[0;34m(\u001b[0m\u001b[0mhandle\u001b[0m \u001b[0;32mand\u001b[0m \u001b[0mfeed_dict_tensor\u001b[0m\u001b[0;34m)\u001b[0m\u001b[0;34m:\u001b[0m\u001b[0;34m\u001b[0m\u001b[0m\n\u001b[1;32m   1136\u001b[0m       results = self._do_run(handle, final_targets, final_fetches,\n\u001b[0;32m-> 1137\u001b[0;31m                              feed_dict_tensor, options, run_metadata)\n\u001b[0m\u001b[1;32m   1138\u001b[0m     \u001b[0;32melse\u001b[0m\u001b[0;34m:\u001b[0m\u001b[0;34m\u001b[0m\u001b[0m\n\u001b[1;32m   1139\u001b[0m       \u001b[0mresults\u001b[0m \u001b[0;34m=\u001b[0m \u001b[0;34m[\u001b[0m\u001b[0;34m]\u001b[0m\u001b[0;34m\u001b[0m\u001b[0m\n",
      "\u001b[0;32m/usr/local/lib/python3.6/site-packages/tensorflow/python/client/session.py\u001b[0m in \u001b[0;36m_do_run\u001b[0;34m(self, handle, target_list, fetch_list, feed_dict, options, run_metadata)\u001b[0m\n\u001b[1;32m   1353\u001b[0m     \u001b[0;32mif\u001b[0m \u001b[0mhandle\u001b[0m \u001b[0;32mis\u001b[0m \u001b[0;32mNone\u001b[0m\u001b[0;34m:\u001b[0m\u001b[0;34m\u001b[0m\u001b[0m\n\u001b[1;32m   1354\u001b[0m       return self._do_call(_run_fn, self._session, feeds, fetches, targets,\n\u001b[0;32m-> 1355\u001b[0;31m                            options, run_metadata)\n\u001b[0m\u001b[1;32m   1356\u001b[0m     \u001b[0;32melse\u001b[0m\u001b[0;34m:\u001b[0m\u001b[0;34m\u001b[0m\u001b[0m\n\u001b[1;32m   1357\u001b[0m       \u001b[0;32mreturn\u001b[0m \u001b[0mself\u001b[0m\u001b[0;34m.\u001b[0m\u001b[0m_do_call\u001b[0m\u001b[0;34m(\u001b[0m\u001b[0m_prun_fn\u001b[0m\u001b[0;34m,\u001b[0m \u001b[0mself\u001b[0m\u001b[0;34m.\u001b[0m\u001b[0m_session\u001b[0m\u001b[0;34m,\u001b[0m \u001b[0mhandle\u001b[0m\u001b[0;34m,\u001b[0m \u001b[0mfeeds\u001b[0m\u001b[0;34m,\u001b[0m \u001b[0mfetches\u001b[0m\u001b[0;34m)\u001b[0m\u001b[0;34m\u001b[0m\u001b[0m\n",
      "\u001b[0;32m/usr/local/lib/python3.6/site-packages/tensorflow/python/client/session.py\u001b[0m in \u001b[0;36m_do_call\u001b[0;34m(self, fn, *args)\u001b[0m\n\u001b[1;32m   1359\u001b[0m   \u001b[0;32mdef\u001b[0m \u001b[0m_do_call\u001b[0m\u001b[0;34m(\u001b[0m\u001b[0mself\u001b[0m\u001b[0;34m,\u001b[0m \u001b[0mfn\u001b[0m\u001b[0;34m,\u001b[0m \u001b[0;34m*\u001b[0m\u001b[0margs\u001b[0m\u001b[0;34m)\u001b[0m\u001b[0;34m:\u001b[0m\u001b[0;34m\u001b[0m\u001b[0m\n\u001b[1;32m   1360\u001b[0m     \u001b[0;32mtry\u001b[0m\u001b[0;34m:\u001b[0m\u001b[0;34m\u001b[0m\u001b[0m\n\u001b[0;32m-> 1361\u001b[0;31m       \u001b[0;32mreturn\u001b[0m \u001b[0mfn\u001b[0m\u001b[0;34m(\u001b[0m\u001b[0;34m*\u001b[0m\u001b[0margs\u001b[0m\u001b[0;34m)\u001b[0m\u001b[0;34m\u001b[0m\u001b[0m\n\u001b[0m\u001b[1;32m   1362\u001b[0m     \u001b[0;32mexcept\u001b[0m \u001b[0merrors\u001b[0m\u001b[0;34m.\u001b[0m\u001b[0mOpError\u001b[0m \u001b[0;32mas\u001b[0m \u001b[0me\u001b[0m\u001b[0;34m:\u001b[0m\u001b[0;34m\u001b[0m\u001b[0m\n\u001b[1;32m   1363\u001b[0m       \u001b[0mmessage\u001b[0m \u001b[0;34m=\u001b[0m \u001b[0mcompat\u001b[0m\u001b[0;34m.\u001b[0m\u001b[0mas_text\u001b[0m\u001b[0;34m(\u001b[0m\u001b[0me\u001b[0m\u001b[0;34m.\u001b[0m\u001b[0mmessage\u001b[0m\u001b[0;34m)\u001b[0m\u001b[0;34m\u001b[0m\u001b[0m\n",
      "\u001b[0;32m/usr/local/lib/python3.6/site-packages/tensorflow/python/client/session.py\u001b[0m in \u001b[0;36m_run_fn\u001b[0;34m(session, feed_dict, fetch_list, target_list, options, run_metadata)\u001b[0m\n\u001b[1;32m   1330\u001b[0m                 run_metadata):\n\u001b[1;32m   1331\u001b[0m       \u001b[0;31m# Ensure any changes to the graph are reflected in the runtime.\u001b[0m\u001b[0;34m\u001b[0m\u001b[0;34m\u001b[0m\u001b[0m\n\u001b[0;32m-> 1332\u001b[0;31m       \u001b[0mself\u001b[0m\u001b[0;34m.\u001b[0m\u001b[0m_extend_graph\u001b[0m\u001b[0;34m(\u001b[0m\u001b[0;34m)\u001b[0m\u001b[0;34m\u001b[0m\u001b[0m\n\u001b[0m\u001b[1;32m   1333\u001b[0m       \u001b[0;32mwith\u001b[0m \u001b[0merrors\u001b[0m\u001b[0;34m.\u001b[0m\u001b[0mraise_exception_on_not_ok_status\u001b[0m\u001b[0;34m(\u001b[0m\u001b[0;34m)\u001b[0m \u001b[0;32mas\u001b[0m \u001b[0mstatus\u001b[0m\u001b[0;34m:\u001b[0m\u001b[0;34m\u001b[0m\u001b[0m\n\u001b[1;32m   1334\u001b[0m         \u001b[0;32mif\u001b[0m \u001b[0mself\u001b[0m\u001b[0;34m.\u001b[0m\u001b[0m_created_with_new_api\u001b[0m\u001b[0;34m:\u001b[0m\u001b[0;34m\u001b[0m\u001b[0m\n",
      "\u001b[0;32m/usr/local/lib/python3.6/site-packages/tensorflow/python/client/session.py\u001b[0m in \u001b[0;36m_extend_graph\u001b[0;34m(self)\u001b[0m\n\u001b[1;32m   1382\u001b[0m     \u001b[0;31m# Ensure any changes to the graph are reflected in the runtime.\u001b[0m\u001b[0;34m\u001b[0m\u001b[0;34m\u001b[0m\u001b[0m\n\u001b[1;32m   1383\u001b[0m     \u001b[0;32mwith\u001b[0m \u001b[0mself\u001b[0m\u001b[0;34m.\u001b[0m\u001b[0m_extend_lock\u001b[0m\u001b[0;34m:\u001b[0m\u001b[0;34m\u001b[0m\u001b[0m\n\u001b[0;32m-> 1384\u001b[0;31m       \u001b[0;32mif\u001b[0m \u001b[0mself\u001b[0m\u001b[0;34m.\u001b[0m\u001b[0m_graph\u001b[0m\u001b[0;34m.\u001b[0m\u001b[0mversion\u001b[0m \u001b[0;34m>\u001b[0m \u001b[0mself\u001b[0m\u001b[0;34m.\u001b[0m\u001b[0m_current_version\u001b[0m\u001b[0;34m:\u001b[0m\u001b[0;34m\u001b[0m\u001b[0m\n\u001b[0m\u001b[1;32m   1385\u001b[0m         \u001b[0;31m# pylint: disable=protected-access\u001b[0m\u001b[0;34m\u001b[0m\u001b[0;34m\u001b[0m\u001b[0m\n\u001b[1;32m   1386\u001b[0m         graph_def, self._current_version = self._graph._as_graph_def(\n",
      "\u001b[0;32m/usr/local/lib/python3.6/site-packages/tensorflow/python/framework/ops.py\u001b[0m in \u001b[0;36mversion\u001b[0;34m(self)\u001b[0m\n\u001b[1;32m   2912\u001b[0m     \u001b[0;32mreturn\u001b[0m \u001b[0;32mNone\u001b[0m\u001b[0;34m\u001b[0m\u001b[0m\n\u001b[1;32m   2913\u001b[0m \u001b[0;34m\u001b[0m\u001b[0m\n\u001b[0;32m-> 2914\u001b[0;31m   \u001b[0;34m@\u001b[0m\u001b[0mproperty\u001b[0m\u001b[0;34m\u001b[0m\u001b[0m\n\u001b[0m\u001b[1;32m   2915\u001b[0m   \u001b[0;32mdef\u001b[0m \u001b[0mversion\u001b[0m\u001b[0;34m(\u001b[0m\u001b[0mself\u001b[0m\u001b[0;34m)\u001b[0m\u001b[0;34m:\u001b[0m\u001b[0;34m\u001b[0m\u001b[0m\n\u001b[1;32m   2916\u001b[0m     \"\"\"Returns a version number that increases as ops are added to the graph.\n",
      "\u001b[0;31mKeyboardInterrupt\u001b[0m: "
     ]
    }
   ],
   "source": [
    "env = gym.make('LQ-v0')\n",
    "agent = klqr(config,sess)\n",
    "agent.build_model()\n",
    "train_agent(agent,env,max_timesteps=40000, n_transitions_between_updates=100,\n",
    "                n_optim_steps_per_update=200,\n",
    "                n_iters_per_p_update=5,\n",
    "                )"
   ]
  },
  {
   "cell_type": "code",
   "execution_count": 4,
   "metadata": {},
   "outputs": [
    {
     "name": "stdout",
     "output_type": "stream",
     "text": [
      "********** Iteration 1 ************\n",
      "\tEpisode Len: 100\n",
      "\tLast Episode Cost: 6737.330726 vs optimal 0.000000\n",
      "********** Iteration 2 ************\n",
      "\tEpisode Len: 100\n",
      "\tLast Episode Cost: 6858.035857 vs optimal 6.501063\n",
      "********** Iteration 3 ************\n",
      "\tEpisode Len: 100\n",
      "\tLast Episode Cost: 6897.710797 vs optimal 33.096960\n",
      "********** Iteration 4 ************\n",
      "\tEpisode Len: 100\n",
      "\tLast Episode Cost: 6676.397342 vs optimal 1.639398\n",
      "********** Iteration 5 ************\n",
      "\tEpisode Len: 100\n",
      "\tLast Episode Cost: 6928.350092 vs optimal 5.943126\n",
      "********** Iteration 6 ************\n",
      "\tEpisode Len: 100\n",
      "\tLast Episode Cost: 6925.595812 vs optimal 13.776395\n",
      "********** Iteration 7 ************\n",
      "\tEpisode Len: 100\n",
      "\tLast Episode Cost: 6928.536660 vs optimal 12.420773\n",
      "********** Iteration 8 ************\n",
      "\tEpisode Len: 100\n",
      "\tLast Episode Cost: 6848.767705 vs optimal 10.985332\n",
      "********** Iteration 9 ************\n",
      "\tEpisode Len: 100\n",
      "\tLast Episode Cost: 6926.063003 vs optimal 18.695012\n",
      "********** Iteration 10 ************\n",
      "\tEpisode Len: 100\n",
      "\tLast Episode Cost: 6890.523146 vs optimal 13.467787\n"
     ]
    }
   ],
   "source": [
    "#test\n",
    "\n",
    "agent.max_a = 100.0\n",
    "agent.min_a = -100.0\n",
    "train_agent(agent,env,max_timesteps=1000,training=False)"
   ]
  },
  {
   "cell_type": "code",
   "execution_count": 56,
   "metadata": {},
   "outputs": [
    {
     "name": "stdout",
     "output_type": "stream",
     "text": [
      "********** Iteration 1 ************\n",
      "\tEpisode Len: 100\n",
      "\tLast Episode Cost: 915.910508 vs optimal 0.000000\n",
      "********** Iteration 2 ************\n",
      "\tEpisode Len: 100\n",
      "\tLast Episode Cost: 922.012108 vs optimal 16.436779\n",
      "********** Iteration 3 ************\n",
      "\tEpisode Len: 100\n",
      "\tLast Episode Cost: 1117.233503 vs optimal 61.685952\n",
      "********** Iteration 4 ************\n",
      "\tEpisode Len: 100\n",
      "\tLast Episode Cost: 948.558038 vs optimal 14.255025\n",
      "********** Iteration 5 ************\n",
      "\tEpisode Len: 100\n",
      "\tLast Episode Cost: 913.919872 vs optimal 101.965660\n",
      "********** Iteration 6 ************\n",
      "\tEpisode Len: 100\n",
      "\tLast Episode Cost: 1090.863860 vs optimal 219.421257\n",
      "********** Iteration 7 ************\n",
      "\tEpisode Len: 100\n",
      "\tLast Episode Cost: 1064.240353 vs optimal 225.311849\n",
      "********** Iteration 8 ************\n",
      "\tEpisode Len: 100\n",
      "\tLast Episode Cost: 1262.386139 vs optimal 39.287106\n",
      "********** Iteration 9 ************\n",
      "\tEpisode Len: 100\n",
      "\tLast Episode Cost: 938.289780 vs optimal 3.604805\n",
      "********** Iteration 10 ************\n",
      "\tEpisode Len: 100\n",
      "\tLast Episode Cost: 986.263996 vs optimal 15.061545\n"
     ]
    }
   ],
   "source": [
    "#test\n",
    "\n",
    "agent.max_a = 100.0\n",
    "agent.min_a = -100.0\n",
    "train_agent(agent,env,max_timesteps=1000,training=False)"
   ]
  },
  {
   "cell_type": "code",
   "execution_count": 85,
   "metadata": {},
   "outputs": [
    {
     "data": {
      "text/plain": [
       "array([[nan, nan, nan, nan, nan, nan],\n",
       "       [nan, nan, nan, nan, nan, nan],\n",
       "       [nan, nan, nan, nan, nan, nan],\n",
       "       [nan, nan, nan, nan, nan, nan],\n",
       "       [nan, nan, nan, nan, nan, nan],\n",
       "       [nan, nan, nan, nan, nan, nan]], dtype=float32)"
      ]
     },
     "execution_count": 85,
     "metadata": {},
     "output_type": "execute_result"
    }
   ],
   "source": [
    "sess.run(agent.A)"
   ]
  },
  {
   "cell_type": "code",
   "execution_count": 84,
   "metadata": {},
   "outputs": [
    {
     "data": {
      "text/plain": [
       "array([[nan],\n",
       "       [nan],\n",
       "       [nan],\n",
       "       [nan],\n",
       "       [nan],\n",
       "       [nan]], dtype=float32)"
      ]
     },
     "execution_count": 84,
     "metadata": {},
     "output_type": "execute_result"
    }
   ],
   "source": [
    "sess.run(agent.B)"
   ]
  },
  {
   "cell_type": "code",
   "execution_count": 83,
   "metadata": {},
   "outputs": [
    {
     "data": {
      "text/plain": [
       "array([[1., 0., 0., 0., 0., 0.],\n",
       "       [0., 1., 0., 0., 0., 0.],\n",
       "       [0., 0., 1., 0., 0., 0.],\n",
       "       [0., 0., 0., 1., 0., 0.],\n",
       "       [0., 0., 0., 0., 1., 0.],\n",
       "       [0., 0., 0., 0., 0., 1.]], dtype=float32)"
      ]
     },
     "execution_count": 83,
     "metadata": {},
     "output_type": "execute_result"
    }
   ],
   "source": [
    "sess.run(agent.Q)"
   ]
  },
  {
   "cell_type": "code",
   "execution_count": 82,
   "metadata": {},
   "outputs": [
    {
     "data": {
      "text/plain": [
       "array([[nan]], dtype=float32)"
      ]
     },
     "execution_count": 82,
     "metadata": {},
     "output_type": "execute_result"
    }
   ],
   "source": [
    "sess.run(agent.R)"
   ]
  },
  {
   "cell_type": "code",
   "execution_count": 40,
   "metadata": {},
   "outputs": [],
   "source": [
    "A,B,Q,R = (env.env.A, env.env.B, env.env.Q, env.env.R)\n",
    "P = Q\n",
    "for k in range(100):\n",
    "    P = Q + A.T @ P @ A - A.T @ P.T @ B @ np.linalg.inv(R + B.T @ P @ B ) @ B.T @ P @ A\n",
    "    P = 0.5*(P + P.T)"
   ]
  },
  {
   "cell_type": "code",
   "execution_count": 41,
   "metadata": {},
   "outputs": [
    {
     "data": {
      "text/plain": [
       "array([[2.23999771, 0.54694411, 0.19286546],\n",
       "       [0.54694411, 2.35082156, 0.54694411],\n",
       "       [0.19286546, 0.54694411, 2.23999771]])"
      ]
     },
     "execution_count": 41,
     "metadata": {},
     "output_type": "execute_result"
    }
   ],
   "source": [
    "P"
   ]
  },
  {
   "cell_type": "code",
   "execution_count": 42,
   "metadata": {},
   "outputs": [
    {
     "data": {
      "text/plain": [
       "array([[1.7117685 , 0.55636847, 0.07273098],\n",
       "       [0.55636847, 1.7515693 , 0.6495986 ],\n",
       "       [0.07273098, 0.6495986 , 1.8076872 ]], dtype=float32)"
      ]
     },
     "execution_count": 42,
     "metadata": {},
     "output_type": "execute_result"
    }
   ],
   "source": [
    "sess.run(agent.P)"
   ]
  },
  {
   "cell_type": "code",
   "execution_count": null,
   "metadata": {},
   "outputs": [],
   "source": []
  }
 ],
 "metadata": {
  "kernelspec": {
   "display_name": "Python 3",
   "language": "python",
   "name": "python3"
  },
  "language_info": {
   "codemirror_mode": {
    "name": "ipython",
    "version": 3
   },
   "file_extension": ".py",
   "mimetype": "text/x-python",
   "name": "python",
   "nbconvert_exporter": "python",
   "pygments_lexer": "ipython3",
   "version": "3.6.4"
  }
 },
 "nbformat": 4,
 "nbformat_minor": 2
}
