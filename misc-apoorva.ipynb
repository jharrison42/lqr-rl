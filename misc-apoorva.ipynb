{
 "cells": [
  {
   "cell_type": "code",
   "execution_count": 48,
   "metadata": {},
   "outputs": [
    {
     "name": "stdout",
     "output_type": "stream",
     "text": [
      "The autoreload extension is already loaded. To reload it, use:\n",
      "  %reload_ext autoreload\n"
     ]
    }
   ],
   "source": [
    "%load_ext autoreload\n",
    "%autoreload 2\n",
    "\n",
    "import numpy as np\n",
    "import matplotlib.pyplot as plt\n",
    "import tensorflow as tf\n",
    "import gym\n",
    "from collections import deque\n",
    "import random\n",
    "import time\n",
    "import yaml\n",
    "from klqr import *\n",
    "from train_utils import *"
   ]
  },
  {
   "cell_type": "code",
   "execution_count": 42,
   "metadata": {},
   "outputs": [],
   "source": [
    "with open('config.yml','r') as ymlfile:\n",
    "    config = yaml.load(ymlfile)\n",
    "    \n",
    "tf.reset_default_graph()\n",
    "sess = tf.InteractiveSession(config=tf.ConfigProto(log_device_placement=True))"
   ]
  },
  {
   "cell_type": "code",
   "execution_count": 43,
   "metadata": {
    "scrolled": false
   },
   "outputs": [
    {
     "name": "stdout",
     "output_type": "stream",
     "text": [
      "z shape: (?, 3)\n",
      "********** Iteration 1 ************\n",
      "\tEpisode Len: 100\n",
      "\tLast Episode Cost: 1157.214424 vs optimal 0.000000\n",
      "********** Iteration 2 ************\n",
      "\tEpisode Len: 1\n",
      "\tLast Episode Cost: 3.107384 vs optimal 151.945077\n",
      "********** Iteration 3 ************\n",
      "\tEpisode Len: 100\n",
      "\tLast Episode Cost: 789.573010 vs optimal 37.269868\n",
      "********** Iteration 4 ************\n",
      "\tEpisode Len: 100\n",
      "\tLast Episode Cost: 1227.669588 vs optimal 115.798097\n",
      "********** Iteration 5 ************\n",
      "[[ 2.4426677  -1.7629962  -0.9850029 ]\n",
      " [-1.7629962   4.4035788   0.95372903]\n",
      " [-0.9850029   0.95372903  1.7269447 ]]\n",
      "\tEpisode Len: 100\n",
      "\tLast Episode Cost: 737.338708 vs optimal 28.077327\n",
      "********** Iteration 6 ************\n",
      "\tEpisode Len: 100\n",
      "\tLast Episode Cost: 190.574086 vs optimal 20.985960\n",
      "********** Iteration 7 ************\n",
      "\tEpisode Len: 100\n",
      "\tLast Episode Cost: 211.005265 vs optimal 15.713587\n",
      "********** Iteration 8 ************\n",
      "\tEpisode Len: 100\n",
      "\tLast Episode Cost: 690.500553 vs optimal 93.059338\n",
      "********** Iteration 9 ************\n",
      "\tEpisode Len: 100\n",
      "\tLast Episode Cost: 570.937297 vs optimal 49.000651\n",
      "********** Iteration 10 ************\n",
      "[[ 29.753298 -29.803635 -14.917498]\n",
      " [-29.803635  33.046017  14.928285]\n",
      " [-14.917498  14.928285   9.053223]]\n",
      "\tEpisode Len: 100\n",
      "\tLast Episode Cost: 344.909674 vs optimal 2.072247\n",
      "********** Iteration 11 ************\n",
      "\tEpisode Len: 100\n",
      "\tLast Episode Cost: 412.353849 vs optimal 19.729288\n",
      "********** Iteration 12 ************\n",
      "\tEpisode Len: 100\n",
      "\tLast Episode Cost: 663.303759 vs optimal 88.437774\n",
      "********** Iteration 13 ************\n",
      "\tEpisode Len: 100\n",
      "\tLast Episode Cost: 470.137946 vs optimal 207.981701\n",
      "********** Iteration 14 ************\n",
      "\tEpisode Len: 100\n",
      "\tLast Episode Cost: 370.535462 vs optimal 149.156548\n",
      "********** Iteration 15 ************\n",
      "[[ 27.082842 -23.221115  -9.412424]\n",
      " [-23.221115  23.659569   8.046684]\n",
      " [ -9.412424   8.046684   4.717409]]\n",
      "\tEpisode Len: 100\n",
      "\tLast Episode Cost: 451.177368 vs optimal 138.361929\n",
      "********** Iteration 16 ************\n",
      "\tEpisode Len: 100\n",
      "\tLast Episode Cost: 485.172154 vs optimal 57.358566\n",
      "********** Iteration 17 ************\n",
      "\tEpisode Len: 100\n",
      "\tLast Episode Cost: 236.427972 vs optimal 96.874309\n",
      "********** Iteration 18 ************\n",
      "\tEpisode Len: 100\n",
      "\tLast Episode Cost: 347.202177 vs optimal 57.853246\n",
      "********** Iteration 19 ************\n",
      "\tEpisode Len: 100\n",
      "\tLast Episode Cost: 520.251149 vs optimal 119.553022\n",
      "********** Iteration 20 ************\n",
      "[[ 70.607414  -50.68551   -19.50943  ]\n",
      " [-50.68551    42.829475   14.082241 ]\n",
      " [-19.50943    14.082241    6.9403133]]\n",
      "\tEpisode Len: 100\n",
      "\tLast Episode Cost: 426.471127 vs optimal 92.935328\n",
      "********** Iteration 21 ************\n",
      "\tEpisode Len: 100\n",
      "\tLast Episode Cost: 403.087546 vs optimal 122.468249\n",
      "********** Iteration 22 ************\n",
      "\tEpisode Len: 100\n",
      "\tLast Episode Cost: 357.352786 vs optimal 15.554334\n",
      "********** Iteration 23 ************\n",
      "\tEpisode Len: 100\n",
      "\tLast Episode Cost: 478.232876 vs optimal 128.258597\n",
      "********** Iteration 24 ************\n",
      "\tEpisode Len: 100\n",
      "\tLast Episode Cost: 204.455952 vs optimal 0.788770\n",
      "********** Iteration 25 ************\n",
      "[[ 1832.7903  -1390.0128   -545.9336 ]\n",
      " [-1390.0128   1063.6664    414.49796]\n",
      " [ -545.9336    414.49796   164.58865]]\n",
      "\tEpisode Len: 100\n",
      "\tLast Episode Cost: 277.636819 vs optimal 5.914622\n",
      "********** Iteration 26 ************\n",
      "\tEpisode Len: 100\n",
      "\tLast Episode Cost: 277.604125 vs optimal 98.051327\n",
      "********** Iteration 27 ************\n",
      "\tEpisode Len: 100\n",
      "\tLast Episode Cost: 242.261155 vs optimal 25.997763\n",
      "********** Iteration 28 ************\n",
      "\tEpisode Len: 100\n",
      "\tLast Episode Cost: 335.982638 vs optimal 68.339789\n",
      "********** Iteration 29 ************\n",
      "\tEpisode Len: 100\n",
      "\tLast Episode Cost: 320.266580 vs optimal 0.128381\n",
      "********** Iteration 30 ************\n",
      "[[ 758.6427  -588.0441  -227.63943]\n",
      " [-588.0441   464.3501   176.81705]\n",
      " [-227.63943  176.81705   70.3214 ]]\n",
      "\tEpisode Len: 100\n",
      "\tLast Episode Cost: 312.974831 vs optimal 100.007177\n",
      "********** Iteration 31 ************\n",
      "\tEpisode Len: 100\n",
      "\tLast Episode Cost: 547.332968 vs optimal 224.879583\n",
      "********** Iteration 32 ************\n",
      "\tEpisode Len: 100\n",
      "\tLast Episode Cost: 297.364176 vs optimal 0.002641\n",
      "********** Iteration 33 ************\n",
      "\tEpisode Len: 100\n",
      "\tLast Episode Cost: 296.001825 vs optimal 112.614448\n",
      "********** Iteration 34 ************\n",
      "\tEpisode Len: 100\n",
      "\tLast Episode Cost: 203.530946 vs optimal 46.655252\n",
      "********** Iteration 35 ************\n",
      "[[1100.4913  -877.29614 -338.7514 ]\n",
      " [-877.29614  706.7174   270.41852]\n",
      " [-338.7514   270.41852  106.42757]]\n",
      "\tEpisode Len: 100\n",
      "\tLast Episode Cost: 189.961727 vs optimal 16.564853\n",
      "********** Iteration 36 ************\n",
      "\tEpisode Len: 100\n",
      "\tLast Episode Cost: 183.549382 vs optimal 25.484841\n",
      "********** Iteration 37 ************\n",
      "\tEpisode Len: 100\n",
      "\tLast Episode Cost: 312.636341 vs optimal 0.111862\n",
      "********** Iteration 38 ************\n",
      "\tEpisode Len: 100\n",
      "\tLast Episode Cost: 127.479703 vs optimal 2.381273\n",
      "********** Iteration 39 ************\n",
      "\tEpisode Len: 100\n",
      "\tLast Episode Cost: 206.084913 vs optimal 66.209464\n",
      "********** Iteration 40 ************\n",
      "[[ 893.0624  -719.5465  -277.33063]\n",
      " [-719.5465   585.9883   223.80257]\n",
      " [-277.33063  223.80257   88.40678]]\n",
      "\tEpisode Len: 100\n",
      "\tLast Episode Cost: 248.449614 vs optimal 47.383065\n",
      "********** Iteration 41 ************\n",
      "\tEpisode Len: 100\n",
      "\tLast Episode Cost: 288.073848 vs optimal 121.432046\n",
      "********** Iteration 42 ************\n",
      "\tEpisode Len: 100\n",
      "\tLast Episode Cost: 230.472027 vs optimal 70.403211\n",
      "********** Iteration 43 ************\n",
      "\tEpisode Len: 100\n",
      "\tLast Episode Cost: 555.248928 vs optimal 298.024328\n",
      "********** Iteration 44 ************\n",
      "\tEpisode Len: 100\n",
      "\tLast Episode Cost: 176.145125 vs optimal 14.080972\n",
      "********** Iteration 45 ************\n",
      "[[ 541.13776  -440.13812  -169.41644 ]\n",
      " [-440.13812   363.672     138.10713 ]\n",
      " [-169.41644   138.10713    55.346615]]\n",
      "\tEpisode Len: 100\n",
      "\tLast Episode Cost: 229.356730 vs optimal 92.497605\n",
      "********** Iteration 46 ************\n",
      "\tEpisode Len: 100\n",
      "\tLast Episode Cost: 297.410639 vs optimal 100.196816\n",
      "********** Iteration 47 ************\n",
      "\tEpisode Len: 100\n",
      "\tLast Episode Cost: 201.672837 vs optimal 0.195978\n",
      "********** Iteration 48 ************\n",
      "\tEpisode Len: 100\n",
      "\tLast Episode Cost: 222.392365 vs optimal 80.762357\n",
      "********** Iteration 49 ************\n",
      "\tEpisode Len: 100\n",
      "\tLast Episode Cost: 167.659100 vs optimal 11.896775\n",
      "********** Iteration 50 ************\n",
      "[[ 439.6479   -361.69012  -139.77673 ]\n",
      " [-361.69012   302.91748   115.221985]\n",
      " [-139.77673   115.221985   46.75885 ]]\n",
      "\tEpisode Len: 100\n",
      "\tLast Episode Cost: 114.906319 vs optimal 9.376287\n",
      "********** Iteration 51 ************\n",
      "\tEpisode Len: 100\n",
      "\tLast Episode Cost: 454.173719 vs optimal 225.324834\n",
      "********** Iteration 52 ************\n",
      "\tEpisode Len: 100\n",
      "\tLast Episode Cost: 283.140641 vs optimal 71.442340\n",
      "********** Iteration 53 ************\n",
      "\tEpisode Len: 100\n",
      "\tLast Episode Cost: 282.374316 vs optimal 112.952102\n",
      "********** Iteration 54 ************\n",
      "\tEpisode Len: 100\n",
      "\tLast Episode Cost: 218.914693 vs optimal 58.569511\n",
      "********** Iteration 55 ************\n",
      "[[ 384.61197  -318.63202  -122.59253 ]\n",
      " [-318.63202   269.25122   101.74441 ]\n",
      " [-122.59253   101.74441    41.361435]]\n",
      "\tEpisode Len: 100\n",
      "\tLast Episode Cost: 211.537709 vs optimal 85.556984\n",
      "********** Iteration 56 ************\n",
      "\tEpisode Len: 100\n",
      "\tLast Episode Cost: 113.862890 vs optimal 0.485585\n",
      "********** Iteration 57 ************\n",
      "\tEpisode Len: 100\n",
      "\tLast Episode Cost: 146.259059 vs optimal 0.401570\n",
      "********** Iteration 58 ************\n",
      "\tEpisode Len: 100\n",
      "\tLast Episode Cost: 340.029241 vs optimal 155.299384\n",
      "********** Iteration 59 ************\n",
      "\tEpisode Len: 100\n",
      "\tLast Episode Cost: 204.440541 vs optimal 56.134487\n",
      "********** Iteration 60 ************\n",
      "[[ 294.16803  -245.70505   -94.57949 ]\n",
      " [-245.70505   210.40779    79.197235]\n",
      " [ -94.57949    79.197235   32.731762]]\n",
      "\tEpisode Len: 100\n",
      "\tLast Episode Cost: 351.605913 vs optimal 129.917013\n",
      "********** Iteration 61 ************\n",
      "\tEpisode Len: 100\n",
      "\tLast Episode Cost: 156.820636 vs optimal 18.236704\n",
      "********** Iteration 62 ************\n",
      "\tEpisode Len: 100\n",
      "\tLast Episode Cost: 113.915207 vs optimal 21.141024\n",
      "********** Iteration 63 ************\n",
      "\tEpisode Len: 100\n",
      "\tLast Episode Cost: 123.020597 vs optimal 7.597838\n",
      "********** Iteration 64 ************\n",
      "\tEpisode Len: 100\n",
      "\tLast Episode Cost: 259.216606 vs optimal 104.555867\n",
      "********** Iteration 65 ************\n",
      "[[ 310.408    -264.41516  -101.019135]\n",
      " [-264.41516   230.35924    86.28086 ]\n",
      " [-101.019135   86.28086    35.202454]]\n",
      "\tEpisode Len: 100\n",
      "\tLast Episode Cost: 179.195451 vs optimal 29.024760\n",
      "********** Iteration 66 ************\n",
      "\tEpisode Len: 100\n",
      "\tLast Episode Cost: 329.183193 vs optimal 128.308038\n",
      "********** Iteration 67 ************\n",
      "\tEpisode Len: 100\n",
      "\tLast Episode Cost: 227.146354 vs optimal 50.439096\n",
      "********** Iteration 68 ************\n",
      "\tEpisode Len: 100\n",
      "\tLast Episode Cost: 198.109818 vs optimal 25.326410\n",
      "********** Iteration 69 ************\n",
      "\tEpisode Len: 100\n",
      "\tLast Episode Cost: 153.201423 vs optimal 24.556971\n",
      "********** Iteration 70 ************\n",
      "[[ 119.81647  -103.3472    -38.97634 ]\n",
      " [-103.3472     94.21828    33.87156 ]\n",
      " [ -38.97634    33.87156    15.007347]]\n",
      "\tEpisode Len: 100\n",
      "\tLast Episode Cost: 316.695366 vs optimal 130.997803\n",
      "********** Iteration 71 ************\n",
      "\tEpisode Len: 100\n",
      "\tLast Episode Cost: 232.829765 vs optimal 15.264140\n",
      "********** Iteration 72 ************\n",
      "\tEpisode Len: 100\n",
      "\tLast Episode Cost: 180.955832 vs optimal 18.431351\n",
      "********** Iteration 73 ************\n",
      "\tEpisode Len: 100\n",
      "\tLast Episode Cost: 287.305557 vs optimal 95.271030\n",
      "********** Iteration 74 ************\n",
      "\tEpisode Len: 100\n",
      "\tLast Episode Cost: 243.376783 vs optimal 88.566032\n",
      "********** Iteration 75 ************\n",
      "[[ 88.52537  -78.376175 -28.650051]\n",
      " [-78.376175  74.48739   25.648783]\n",
      " [-28.650051  25.648783  11.574363]]\n",
      "\tEpisode Len: 100\n",
      "\tLast Episode Cost: 304.729544 vs optimal 127.880177\n",
      "********** Iteration 76 ************\n",
      "\tEpisode Len: 100\n",
      "\tLast Episode Cost: 192.182330 vs optimal 29.999009\n",
      "********** Iteration 77 ************\n",
      "\tEpisode Len: 100\n",
      "\tLast Episode Cost: 223.279527 vs optimal 71.145591\n",
      "********** Iteration 78 ************\n",
      "\tEpisode Len: 100\n",
      "\tLast Episode Cost: 148.698176 vs optimal 1.366839\n",
      "********** Iteration 79 ************\n",
      "\tEpisode Len: 100\n",
      "\tLast Episode Cost: 130.690210 vs optimal 14.008370\n",
      "********** Iteration 80 ************\n",
      "[[ 69.72574  -63.277668 -22.28558 ]\n",
      " [-63.277668  62.601974  20.578762]\n",
      " [-22.28558   20.578762   9.393497]]\n",
      "\tEpisode Len: 100\n",
      "\tLast Episode Cost: 431.476066 vs optimal 295.122633\n",
      "********** Iteration 81 ************\n",
      "\tEpisode Len: 100\n",
      "\tLast Episode Cost: 215.001421 vs optimal 56.771345\n",
      "********** Iteration 82 ************\n",
      "\tEpisode Len: 100\n",
      "\tLast Episode Cost: 272.505851 vs optimal 98.711497\n",
      "********** Iteration 83 ************\n",
      "\tEpisode Len: 100\n",
      "\tLast Episode Cost: 229.371574 vs optimal 77.880405\n",
      "********** Iteration 84 ************\n",
      "\tEpisode Len: 100\n",
      "\tLast Episode Cost: 167.805277 vs optimal 16.758034\n",
      "********** Iteration 85 ************\n",
      "[[ 69.80387   -64.86965   -22.314987 ]\n",
      " [-64.86965    65.540504   21.061687 ]\n",
      " [-22.314987   21.061687    9.4076395]]\n",
      "\tEpisode Len: 100\n",
      "\tLast Episode Cost: 128.759005 vs optimal 6.660062\n",
      "********** Iteration 86 ************\n",
      "\tEpisode Len: 100\n",
      "\tLast Episode Cost: 437.069864 vs optimal 164.026850\n",
      "********** Iteration 87 ************\n",
      "\tEpisode Len: 100\n",
      "\tLast Episode Cost: 226.195454 vs optimal 75.896502\n",
      "********** Iteration 88 ************\n",
      "\tEpisode Len: 100\n",
      "\tLast Episode Cost: 294.741878 vs optimal 118.859954\n",
      "********** Iteration 89 ************\n",
      "\tEpisode Len: 100\n",
      "\tLast Episode Cost: 188.658129 vs optimal 44.764470\n",
      "********** Iteration 90 ************\n",
      "[[ 65.334114 -63.1235   -20.858541]\n",
      " [-63.1235    66.48573   20.503674]\n",
      " [-20.858541  20.503674   8.934078]]\n",
      "\tEpisode Len: 100\n",
      "\tLast Episode Cost: 165.894771 vs optimal 0.356225\n",
      "********** Iteration 91 ************\n",
      "\tEpisode Len: 100\n",
      "\tLast Episode Cost: 367.469986 vs optimal 200.712568\n",
      "********** Iteration 92 ************\n",
      "\tEpisode Len: 100\n",
      "\tLast Episode Cost: 97.579454 vs optimal 1.566539\n",
      "********** Iteration 93 ************\n",
      "\tEpisode Len: 100\n",
      "\tLast Episode Cost: 208.525459 vs optimal 17.066269\n",
      "********** Iteration 94 ************\n",
      "\tEpisode Len: 100\n",
      "\tLast Episode Cost: 171.167962 vs optimal 1.040512\n",
      "********** Iteration 95 ************\n",
      "[[ 58.525463 -58.573868 -18.736774]\n",
      " [-58.573868  64.37821   19.174671]\n",
      " [-18.736774  19.174671   8.221187]]\n",
      "\tEpisode Len: 100\n",
      "\tLast Episode Cost: 204.864691 vs optimal 0.565720\n",
      "********** Iteration 96 ************\n",
      "\tEpisode Len: 100\n",
      "\tLast Episode Cost: 262.579631 vs optimal 34.618218\n",
      "********** Iteration 97 ************\n",
      "\tEpisode Len: 100\n",
      "\tLast Episode Cost: 166.618825 vs optimal 54.581993\n",
      "********** Iteration 98 ************\n",
      "\tEpisode Len: 100\n",
      "\tLast Episode Cost: 182.781396 vs optimal 19.708069\n",
      "********** Iteration 99 ************\n",
      "\tEpisode Len: 100\n",
      "\tLast Episode Cost: 385.242633 vs optimal 108.420436\n",
      "********** Iteration 100 ************\n",
      "[[ 84.34417  -87.26286  -27.050728]\n",
      " [-87.26286   96.359     28.38733 ]\n",
      " [-27.050728  28.38733   10.890048]]\n",
      "\tEpisode Len: 100\n",
      "\tLast Episode Cost: 183.346499 vs optimal 8.810653\n"
     ]
    }
   ],
   "source": [
    "env = gym.make('TransformedLQ-v0')\n",
    "agent = klqr(config,sess)\n",
    "agent.build_model()\n",
    "training_curve = train_agent(agent,env,max_timesteps=10000, n_transitions_between_updates=100,\n",
    "                             n_optim_steps_per_update=200,\n",
    "                             n_iters_per_p_update=5,\n",
    "                            )"
   ]
  },
  {
   "cell_type": "code",
   "execution_count": 44,
   "metadata": {},
   "outputs": [
    {
     "name": "stdout",
     "output_type": "stream",
     "text": [
      "********** Iteration 1 ************\n",
      "\tEpisode Len: 100\n",
      "\tLast Episode Cost: 283.857209 vs optimal 0.000000\n",
      "********** Iteration 2 ************\n",
      "\tEpisode Len: 1\n",
      "\tLast Episode Cost: 1.429744 vs optimal 14.989642\n",
      "********** Iteration 3 ************\n",
      "\tEpisode Len: 100\n",
      "\tLast Episode Cost: 104.490203 vs optimal 100.155814\n",
      "********** Iteration 4 ************\n",
      "\tEpisode Len: 100\n",
      "\tLast Episode Cost: 63.137574 vs optimal 62.625735\n",
      "********** Iteration 5 ************\n",
      "\tEpisode Len: 100\n",
      "\tLast Episode Cost: 2.623912 vs optimal 2.572072\n",
      "********** Iteration 6 ************\n",
      "\tEpisode Len: 100\n",
      "\tLast Episode Cost: 39.613106 vs optimal 39.065049\n",
      "********** Iteration 7 ************\n",
      "\tEpisode Len: 100\n",
      "\tLast Episode Cost: 11.021794 vs optimal 10.913970\n",
      "********** Iteration 8 ************\n",
      "\tEpisode Len: 100\n",
      "\tLast Episode Cost: 16.080607 vs optimal 14.747713\n",
      "********** Iteration 9 ************\n",
      "\tEpisode Len: 100\n",
      "\tLast Episode Cost: 2.575087 vs optimal 2.556054\n",
      "********** Iteration 10 ************\n",
      "\tEpisode Len: 100\n",
      "\tLast Episode Cost: 44.887165 vs optimal 44.394267\n"
     ]
    },
    {
     "data": {
      "text/plain": [
       "[-51.61620607637108,\n",
       " -61.197412903087454,\n",
       " -66.23260669711267,\n",
       " -68.01576513148053,\n",
       " -59.796829638399366,\n",
       " -51.97939063716575,\n",
       " -72.19992818358412,\n",
       " -57.01728657027683,\n",
       " -68.51643749482909,\n",
       " -57.15370971328744,\n",
       " -62.576214555006516]"
      ]
     },
     "execution_count": 44,
     "metadata": {},
     "output_type": "execute_result"
    }
   ],
   "source": [
    "#test\n",
    "\n",
    "agent.max_a = 100.0\n",
    "agent.min_a = -100.0\n",
    "train_agent(agent,env,max_timesteps=1000,training=False)"
   ]
  },
  {
   "cell_type": "code",
   "execution_count": 13,
   "metadata": {},
   "outputs": [
    {
     "data": {
      "text/plain": [
       "-25.862430603557964"
      ]
     },
     "execution_count": 13,
     "metadata": {},
     "output_type": "execute_result"
    }
   ],
   "source": [
    "#test\n",
    "test_rollout(agent, env, 100)"
   ]
  },
  {
   "cell_type": "code",
   "execution_count": 85,
   "metadata": {},
   "outputs": [
    {
     "data": {
      "text/plain": [
       "array([[nan, nan, nan, nan, nan, nan],\n",
       "       [nan, nan, nan, nan, nan, nan],\n",
       "       [nan, nan, nan, nan, nan, nan],\n",
       "       [nan, nan, nan, nan, nan, nan],\n",
       "       [nan, nan, nan, nan, nan, nan],\n",
       "       [nan, nan, nan, nan, nan, nan]], dtype=float32)"
      ]
     },
     "execution_count": 85,
     "metadata": {},
     "output_type": "execute_result"
    }
   ],
   "source": [
    "sess.run(agent.A)"
   ]
  },
  {
   "cell_type": "code",
   "execution_count": 84,
   "metadata": {},
   "outputs": [
    {
     "data": {
      "text/plain": [
       "array([[nan],\n",
       "       [nan],\n",
       "       [nan],\n",
       "       [nan],\n",
       "       [nan],\n",
       "       [nan]], dtype=float32)"
      ]
     },
     "execution_count": 84,
     "metadata": {},
     "output_type": "execute_result"
    }
   ],
   "source": [
    "sess.run(agent.B)"
   ]
  },
  {
   "cell_type": "code",
   "execution_count": 83,
   "metadata": {},
   "outputs": [
    {
     "data": {
      "text/plain": [
       "array([[1., 0., 0., 0., 0., 0.],\n",
       "       [0., 1., 0., 0., 0., 0.],\n",
       "       [0., 0., 1., 0., 0., 0.],\n",
       "       [0., 0., 0., 1., 0., 0.],\n",
       "       [0., 0., 0., 0., 1., 0.],\n",
       "       [0., 0., 0., 0., 0., 1.]], dtype=float32)"
      ]
     },
     "execution_count": 83,
     "metadata": {},
     "output_type": "execute_result"
    }
   ],
   "source": [
    "sess.run(agent.Q)"
   ]
  },
  {
   "cell_type": "code",
   "execution_count": 82,
   "metadata": {},
   "outputs": [
    {
     "data": {
      "text/plain": [
       "array([[nan]], dtype=float32)"
      ]
     },
     "execution_count": 82,
     "metadata": {},
     "output_type": "execute_result"
    }
   ],
   "source": [
    "sess.run(agent.R)"
   ]
  },
  {
   "cell_type": "code",
   "execution_count": 17,
   "metadata": {},
   "outputs": [],
   "source": [
    "A,B,Q,R = (env.env.A, env.env.B, env.env.Q, env.env.R)\n",
    "P = Q\n",
    "for k in range(100):\n",
    "    P = Q + A.T @ P @ A - A.T @ P.T @ B @ np.linalg.inv(R + B.T @ P @ B ) @ B.T @ P @ A\n",
    "    P = 0.5*(P + P.T)"
   ]
  },
  {
   "cell_type": "code",
   "execution_count": 18,
   "metadata": {},
   "outputs": [
    {
     "data": {
      "text/plain": [
       "array([[2.23999771, 0.54694411, 0.19286546],\n",
       "       [0.54694411, 2.35082156, 0.54694411],\n",
       "       [0.19286546, 0.54694411, 2.23999771]])"
      ]
     },
     "execution_count": 18,
     "metadata": {},
     "output_type": "execute_result"
    }
   ],
   "source": [
    "P"
   ]
  },
  {
   "cell_type": "code",
   "execution_count": 19,
   "metadata": {},
   "outputs": [
    {
     "data": {
      "text/plain": [
       "array([[ 1.4385443e+00,  3.4560442e-02,  1.3267036e-01],\n",
       "       [ 3.4560442e-02,  5.1228347e+00, -1.2631528e+01],\n",
       "       [ 1.3267036e-01, -1.2631528e+01,  9.5166641e+01]], dtype=float32)"
      ]
     },
     "execution_count": 19,
     "metadata": {},
     "output_type": "execute_result"
    }
   ],
   "source": [
    "sess.run(agent.P)"
   ]
  },
  {
   "cell_type": "code",
   "execution_count": 50,
   "metadata": {},
   "outputs": [],
   "source": [
    "opt_reward = compute_optimal_reward(env, 50)"
   ]
  },
  {
   "cell_type": "code",
   "execution_count": 58,
   "metadata": {},
   "outputs": [
    {
     "data": {
      "image/png": "[encoded data removed]",
      "text/plain": [
       "<matplotlib.figure.Figure at 0x11f7accc0>"
      ]
     },
     "metadata": {},
     "output_type": "display_data"
    }
   ],
   "source": [
    "plt.figure()\n",
    "plt.plot(np.arange(len(training_curve)), training_curve, label='Lifted LQR')\n",
    "plt.plot([0, len(training_curve)-1], [opt_reward, opt_reward], linestyle=':', color='black', label='Optimal')\n",
    "plt.xlabel('Episode')\n",
    "plt.ylabel('Avg Test Reward')\n",
    "plt.legend()\n",
    "plt.show()"
   ]
  },
  {
   "cell_type": "code",
   "execution_count": 37,
   "metadata": {},
   "outputs": [
    {
     "data": {
      "text/plain": [
       "-144.6358680702729"
      ]
     },
     "execution_count": 37,
     "metadata": {},
     "output_type": "execute_result"
    }
   ],
   "source": [
    "test_rollout(agent, env, 50)"
   ]
  },
  {
   "cell_type": "code",
   "execution_count": null,
   "metadata": {},
   "outputs": [],
   "source": []
  },
  {
   "cell_type": "code",
   "execution_count": null,
   "metadata": {},
   "outputs": [],
   "source": []
  }
 ],
 "metadata": {
  "kernelspec": {
   "display_name": "Python 3",
   "language": "python",
   "name": "python3"
  },
  "language_info": {
   "codemirror_mode": {
    "name": "ipython",
    "version": 3
   },
   "file_extension": ".py",
   "mimetype": "text/x-python",
   "name": "python",
   "nbconvert_exporter": "python",
   "pygments_lexer": "ipython3",
   "version": "3.6.4"
  }
 },
 "nbformat": 4,
 "nbformat_minor": 2
}
